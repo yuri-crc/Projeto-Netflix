{
 "cells": [
  {
   "cell_type": "code",
   "execution_count": 1,
   "id": "0f25080d-6e86-4664-aa57-804567c33f77",
   "metadata": {},
   "outputs": [],
   "source": [
    "import os\n",
    "os.environ[\"PYSPARK_SUBMIT_ARGS\"] = (\n",
    "    \"--packages org.apache.hadoop:hadoop-aws:3.3.2,\"\n",
    "    \"com.amazonaws:aws-java-sdk-bundle:1.12.180 pyspark-shell\"\n",
    ")\n"
   ]
  },
  {
   "cell_type": "code",
   "execution_count": 3,
   "id": "a713e7c7-1931-4585-9b9d-754e3747b3f2",
   "metadata": {},
   "outputs": [],
   "source": [
    "from pyspark.sql import SparkSession"
   ]
  },
  {
   "cell_type": "code",
   "execution_count": 4,
   "id": "55b010cf-ed27-4e62-8726-c8b394e60c1b",
   "metadata": {},
   "outputs": [],
   "source": [
    "spark = SparkSession.builder \\\n",
    "    .appName(\"SparkMinIOExample\") \\\n",
    "    .config(\"spark.hadoop.fs.s3a.impl\", \"org.apache.hadoop.fs.s3a.S3AFileSystem\") \\\n",
    "    .config(\"spark.hadoop.fs.s3a.access.key\", \"labdata1\") \\\n",
    "    .config(\"spark.hadoop.fs.s3a.secret.key\", \"labdata1\") \\\n",
    "    .config(\"spark.hadoop.fs.s3a.endpoint\", \"http://172.18.0.3:9000\") \\\n",
    "    .config(\"spark.hadoop.fs.s3a.path.style.access\", \"true\") \\\n",
    "    .getOrCreate()"
   ]
  },
  {
   "cell_type": "code",
   "execution_count": 14,
   "id": "046c1ebf-1488-4628-97bd-b1f1b955790b",
   "metadata": {},
   "outputs": [
    {
     "name": "stdout",
     "output_type": "stream",
     "text": [
      "+-------+-------+--------------------+--------------------+--------------------+--------------------+------------------+------------+------+---------+--------------------+--------------------+\n",
      "|show_id|   type|               title|            director|                cast|             country|        date_added|release_year|rating| duration|           listed_in|         description|\n",
      "+-------+-------+--------------------+--------------------+--------------------+--------------------+------------------+------------+------+---------+--------------------+--------------------+\n",
      "|     s1|  Movie|Dick Johnson Is Dead|     Kirsten Johnson|                null|       United States|September 25, 2021|        2020| PG-13|   90 min|       Documentaries|As her father nea...|\n",
      "|     s2|TV Show|       Blood & Water|                null|Ama Qamata, Khosi...|        South Africa|September 24, 2021|        2021| TV-MA|2 Seasons|International TV ...|After crossing pa...|\n",
      "|     s3|TV Show|           Ganglands|     Julien Leclercq|Sami Bouajila, Tr...|                null|September 24, 2021|        2021| TV-MA| 1 Season|Crime TV Shows, I...|To protect his fa...|\n",
      "|     s4|TV Show|Jailbirds New Orl...|                null|                null|                null|September 24, 2021|        2021| TV-MA| 1 Season|Docuseries, Reali...|Feuds, flirtation...|\n",
      "|     s5|TV Show|        Kota Factory|                null|Mayur More, Jiten...|               India|September 24, 2021|        2021| TV-MA|2 Seasons|International TV ...|In a city of coac...|\n",
      "|     s6|TV Show|       Midnight Mass|       Mike Flanagan|Kate Siegel, Zach...|                null|September 24, 2021|        2021| TV-MA| 1 Season|TV Dramas, TV Hor...|The arrival of a ...|\n",
      "|     s7|  Movie|My Little Pony: A...|Robert Cullen, Jo...|Vanessa Hudgens, ...|                null|September 24, 2021|        2021|    PG|   91 min|Children & Family...|Equestria's divid...|\n",
      "|     s8|  Movie|             Sankofa|        Haile Gerima|Kofi Ghanaba, Oya...|United States, Gh...|September 24, 2021|        1993| TV-MA|  125 min|Dramas, Independe...|On a photo shoot ...|\n",
      "|     s9|TV Show|The Great British...|     Andy Devonshire|Mel Giedroyc, Sue...|      United Kingdom|September 24, 2021|        2021| TV-14|9 Seasons|British TV Shows,...|A talented batch ...|\n",
      "|    s10|  Movie|        The Starling|      Theodore Melfi|Melissa McCarthy,...|       United States|September 24, 2021|        2021| PG-13|  104 min|    Comedies, Dramas|A woman adjusting...|\n",
      "|    s11|TV Show|Vendetta: Truth, ...|                null|                null|                null|September 24, 2021|        2021| TV-MA| 1 Season|Crime TV Shows, D...|\"Sicily boasts a ...|\n",
      "|    s12|TV Show|    Bangkok Breaking|   Kongkiat Komesiri|Sukollawat Kanaro...|                null|September 23, 2021|        2021| TV-MA| 1 Season|Crime TV Shows, I...|Struggling to ear...|\n",
      "|    s13|  Movie|        Je Suis Karl| Christian Schwochow|Luna Wedler, Jann...|Germany, Czech Re...|September 23, 2021|        2021| TV-MA|  127 min|Dramas, Internati...|After most of her...|\n",
      "|    s14|  Movie|Confessions of an...|       Bruno Garotti|Klara Castanho, L...|                null|September 22, 2021|        2021| TV-PG|   91 min|Children & Family...|When the clever b...|\n",
      "|    s15|TV Show|Crime Stories: In...|                null|                null|                null|September 22, 2021|        2021| TV-MA| 1 Season|British TV Shows,...|Cameras following...|\n",
      "|    s16|TV Show|   Dear White People|                null|Logan Browning, B...|       United States|September 22, 2021|        2021| TV-MA|4 Seasons|TV Comedies, TV D...|\"Students of colo...|\n",
      "|    s17|  Movie|Europe's Most Dan...|Pedro de Echave G...|                null|                null|September 22, 2021|        2020| TV-MA|   67 min|Documentaries, In...|Declassified docu...|\n",
      "|    s18|TV Show|     Falsa identidad|                null|Luis Ernesto Fran...|              Mexico|September 22, 2021|        2020| TV-MA|2 Seasons|Crime TV Shows, S...|Strangers Diego a...|\n",
      "|    s19|  Movie|           Intrusion|          Adam Salky|Freida Pinto, Log...|                null|September 22, 2021|        2021| TV-14|   94 min|           Thrillers|After a deadly ho...|\n",
      "|    s20|TV Show|              Jaguar|                null|Blanca Suárez, Iv...|                null|September 22, 2021|        2021| TV-MA| 1 Season|International TV ...|In the 1960s, a H...|\n",
      "+-------+-------+--------------------+--------------------+--------------------+--------------------+------------------+------------+------+---------+--------------------+--------------------+\n",
      "only showing top 20 rows\n",
      "\n"
     ]
    }
   ],
   "source": [
    "df_bronze = spark.read.csv(\"s3a://raw/csv/movies/year=2025/month=10/day=06/netflix_titles_20251006_201457.csv\", header=True, inferSchema=True)\n",
    "df_bronze.show()"
   ]
  },
  {
   "cell_type": "code",
   "execution_count": 33,
   "id": "a43be3f5-a97b-4b36-a876-4fb0f8b28b73",
   "metadata": {},
   "outputs": [
    {
     "name": "stdout",
     "output_type": "stream",
     "text": [
      "+-------+-------+--------------------+--------------------+--------------------+--------------------+------------------+------------+------+---------+--------------------+--------------------+\n",
      "|show_id|   type|               title|            director|                cast|             country|        date_added|release_year|rating| duration|           listed_in|         description|\n",
      "+-------+-------+--------------------+--------------------+--------------------+--------------------+------------------+------------+------+---------+--------------------+--------------------+\n",
      "|    s33|TV Show|       Sex Education|                null|Asa Butterfield, ...|      United Kingdom|September 17, 2021|        2020| TV-MA|3 Seasons|British TV Shows,...|Insecure Otis has...|\n",
      "|   s461|  Movie|           Surf's Up|Ash Brannon, Chri...|Shia LaBeouf, Jef...|United States, Ca...|     July 15, 2021|        2007|    PG|   86 min|Children & Family...|This Oscar-nomina...|\n",
      "|   s695|  Movie|               Aziza|      Soudade Kaadan|Caress Bashar, Ab...|      Lebanon, Syria|     June 17, 2021|        2019| TV-PG|   13 min|Comedies, Dramas,...|This short film f...|\n",
      "|   s730|  Movie|Bling Empire - Th...|                null|David Spade, Lond...|                null|     June 12, 2021|        2021| TV-MA|   36 min|              Movies|\"The stars of \"\"B...|\n",
      "|   s883|  Movie|Jungle Beat: The ...|         Brent Dawes|Ed Kear, David Me...|           Mauritius|      May 14, 2021|        2021| TV-Y7|   90 min|Children & Family...|When a lost and l...|\n",
      "|  s1028|  Movie|        Crimson Peak|  Guillermo del Toro|Mia Wasikowska, J...|Canada, United St...|    April 16, 2021|        2015|     R|  119 min|Horror Movies, Ro...|After marrying a ...|\n",
      "|  s1113|  Movie|    Woody Woodpecker|           Alex Zamm|Timothy Omundson,...|       United States|     April 2, 2021|        2017|    PG|   91 min|Children & Family...|A rascally bird w...|\n",
      "|  s1350|TV Show|Pablo Escobar, el...|                null|Andrés Parra, Ang...|            Colombia|  February 3, 2021|        2012| TV-MA| 1 Season|Crime TV Shows, I...|From his days as ...|\n",
      "|  s1733|  Movie|      Alone/Together|  Antoinette Jadaone|Liza Soberano, En...|         Philippines|  November 5, 2020|        2019| TV-14|  103 min|Dramas, Internati...|Eight years after...|\n",
      "|  s1879|TV Show|             The 100|                null|Eliza Taylor, Pai...|United States, Ca...|   October 8, 2020|        2020| TV-MA|7 Seasons|TV Action & Adven...|A century after E...|\n",
      "|  s2483|  Movie|      Bye Bye London|  Almunsif Alsuwaisi|Abdulhussain Abdu...|              Kuwait|      May 21, 2020|        1981| TV-14|  177 min|Comedies, Dramas,...|In this satirical...|\n",
      "|  s2652|TV Show|       Absurd Planet|                null|         Afi Ekulona|       United States|    April 22, 2020|        2020| TV-PG| 1 Season|Docuseries, Scien...|A cast of quirky ...|\n",
      "|  s2886|  Movie|   When Love Happens|       Seyi Babatope|Weruche Opia, Gid...|             Nigeria| February 26, 2020|        2014| TV-14|  109 min|International Mov...|Fed up with coord...|\n",
      "|  s3019|  Movie|              Legend|     Brian Helgeland|Tom Hardy, Emily ...|United Kingdom, F...|  January 16, 2020|        2015|     R|  132 min|Dramas, Internati...|Identical twins a...|\n",
      "|  s3058|  Movie|  Garfield Gets Real|Mark A.Z. Dippé, ...|Frank Welker, Wal...|       United States|   January 1, 2020|        2007|  TV-Y|   78 min|Children & Family...|\"After trying to ...|\n",
      "|  s3445|TV Show|Legend Quest: Mas...|                null|Johnny Rose, Anne...|              Mexico|   October 5, 2019|        2019| TV-Y7| 1 Season|Kids' TV, Spanish...|When mythical cre...|\n",
      "|  s3521|  Movie|       Locked on You|      Kıvanç Baruönü|Ata Demirer, Deme...|              Turkey|September 13, 2019|        2018| TV-14|  105 min|Comedies, Interna...|When his chatty n...|\n",
      "|  s3731|  Movie|     The Wolf's Call|      Antonin Baudry|François Civil, O...|              France|     June 20, 2019|        2019| TV-14|  116 min|Dramas, Internati...|With nuclear war ...|\n",
      "|  s3934|  Movie|Petta (Telugu Ver...|    Karthik Subbaraj|Rajnikanth, Vijay...|                null|     April 7, 2019|        2019| TV-14|  170 min|Action & Adventur...|An affable, newly...|\n",
      "|  s3979|  Movie|       Oversize Cops|Chanon Yingyong, ...|Sarun Cinsuvapala...|            Thailand|    March 23, 2019|        2017| TV-MA|  100 min|Action & Adventur...|While investigati...|\n",
      "+-------+-------+--------------------+--------------------+--------------------+--------------------+------------------+------------+------+---------+--------------------+--------------------+\n",
      "only showing top 20 rows\n",
      "\n"
     ]
    }
   ],
   "source": [
    "df_bronze = df_bronze.dropDuplicates()\n",
    "df_bronze.show()"
   ]
  },
  {
   "cell_type": "code",
   "execution_count": 35,
   "id": "7236957c-ae8c-41fd-a92c-b90ce7a1642b",
   "metadata": {},
   "outputs": [
    {
     "name": "stdout",
     "output_type": "stream",
     "text": [
      "+-------+-------+--------------------+--------------------+--------------------+--------------------+------------------+------------+------+---------+--------------------+--------------------+\n",
      "|show_id|   type|               title|            director|                cast|             country|        date_added|release_year|rating| duration|           listed_in|         description|\n",
      "+-------+-------+--------------------+--------------------+--------------------+--------------------+------------------+------------+------+---------+--------------------+--------------------+\n",
      "|    s33|TV Show|       Sex Education|             Unknown|Asa Butterfield, ...|      United Kingdom|September 17, 2021|        2020| TV-MA|3 Seasons|British TV Shows,...|Insecure Otis has...|\n",
      "|   s461|  Movie|           Surf's Up|Ash Brannon, Chri...|Shia LaBeouf, Jef...|United States, Ca...|     July 15, 2021|        2007|    PG|   86 min|Children & Family...|This Oscar-nomina...|\n",
      "|   s695|  Movie|               Aziza|      Soudade Kaadan|Caress Bashar, Ab...|      Lebanon, Syria|     June 17, 2021|        2019| TV-PG|   13 min|Comedies, Dramas,...|This short film f...|\n",
      "|   s730|  Movie|Bling Empire - Th...|             Unknown|David Spade, Lond...|             Unknown|     June 12, 2021|        2021| TV-MA|   36 min|              Movies|\"The stars of \"\"B...|\n",
      "|   s883|  Movie|Jungle Beat: The ...|         Brent Dawes|Ed Kear, David Me...|           Mauritius|      May 14, 2021|        2021| TV-Y7|   90 min|Children & Family...|When a lost and l...|\n",
      "|  s1028|  Movie|        Crimson Peak|  Guillermo del Toro|Mia Wasikowska, J...|Canada, United St...|    April 16, 2021|        2015|     R|  119 min|Horror Movies, Ro...|After marrying a ...|\n",
      "|  s1113|  Movie|    Woody Woodpecker|           Alex Zamm|Timothy Omundson,...|       United States|     April 2, 2021|        2017|    PG|   91 min|Children & Family...|A rascally bird w...|\n",
      "|  s1350|TV Show|Pablo Escobar, el...|             Unknown|Andrés Parra, Ang...|            Colombia|  February 3, 2021|        2012| TV-MA| 1 Season|Crime TV Shows, I...|From his days as ...|\n",
      "|  s1733|  Movie|      Alone/Together|  Antoinette Jadaone|Liza Soberano, En...|         Philippines|  November 5, 2020|        2019| TV-14|  103 min|Dramas, Internati...|Eight years after...|\n",
      "|  s1879|TV Show|             The 100|             Unknown|Eliza Taylor, Pai...|United States, Ca...|   October 8, 2020|        2020| TV-MA|7 Seasons|TV Action & Adven...|A century after E...|\n",
      "|  s2483|  Movie|      Bye Bye London|  Almunsif Alsuwaisi|Abdulhussain Abdu...|              Kuwait|      May 21, 2020|        1981| TV-14|  177 min|Comedies, Dramas,...|In this satirical...|\n",
      "|  s2652|TV Show|       Absurd Planet|             Unknown|         Afi Ekulona|       United States|    April 22, 2020|        2020| TV-PG| 1 Season|Docuseries, Scien...|A cast of quirky ...|\n",
      "|  s2886|  Movie|   When Love Happens|       Seyi Babatope|Weruche Opia, Gid...|             Nigeria| February 26, 2020|        2014| TV-14|  109 min|International Mov...|Fed up with coord...|\n",
      "|  s3019|  Movie|              Legend|     Brian Helgeland|Tom Hardy, Emily ...|United Kingdom, F...|  January 16, 2020|        2015|     R|  132 min|Dramas, Internati...|Identical twins a...|\n",
      "|  s3058|  Movie|  Garfield Gets Real|Mark A.Z. Dippé, ...|Frank Welker, Wal...|       United States|   January 1, 2020|        2007|  TV-Y|   78 min|Children & Family...|\"After trying to ...|\n",
      "|  s3445|TV Show|Legend Quest: Mas...|             Unknown|Johnny Rose, Anne...|              Mexico|   October 5, 2019|        2019| TV-Y7| 1 Season|Kids' TV, Spanish...|When mythical cre...|\n",
      "|  s3521|  Movie|       Locked on You|      Kıvanç Baruönü|Ata Demirer, Deme...|              Turkey|September 13, 2019|        2018| TV-14|  105 min|Comedies, Interna...|When his chatty n...|\n",
      "|  s3731|  Movie|     The Wolf's Call|      Antonin Baudry|François Civil, O...|              France|     June 20, 2019|        2019| TV-14|  116 min|Dramas, Internati...|With nuclear war ...|\n",
      "|  s3934|  Movie|Petta (Telugu Ver...|    Karthik Subbaraj|Rajnikanth, Vijay...|             Unknown|     April 7, 2019|        2019| TV-14|  170 min|Action & Adventur...|An affable, newly...|\n",
      "|  s3979|  Movie|       Oversize Cops|Chanon Yingyong, ...|Sarun Cinsuvapala...|            Thailand|    March 23, 2019|        2017| TV-MA|  100 min|Action & Adventur...|While investigati...|\n",
      "+-------+-------+--------------------+--------------------+--------------------+--------------------+------------------+------------+------+---------+--------------------+--------------------+\n",
      "only showing top 20 rows\n",
      "\n"
     ]
    }
   ],
   "source": [
    "df_bronze = df_bronze.fillna({\n",
    "    \"director\": \"Unknown\",\n",
    "    \"cast\": \"Unknown\",\n",
    "    \"country\": \"Unknown\"\n",
    "})\n",
    "df_bronze.show()"
   ]
  },
  {
   "cell_type": "code",
   "execution_count": 37,
   "id": "3c18b381-87a8-4198-a651-cb0dfb21f6c9",
   "metadata": {},
   "outputs": [
    {
     "name": "stdout",
     "output_type": "stream",
     "text": [
      "+-------+-------+--------------------+--------------------+--------------------+--------------------+----------+------------+------+---------+--------------------+--------------------+\n",
      "|show_id|   type|               title|            director|                cast|             country|date_added|release_year|rating| duration|           listed_in|         description|\n",
      "+-------+-------+--------------------+--------------------+--------------------+--------------------+----------+------------+------+---------+--------------------+--------------------+\n",
      "|    s33|TV Show|       Sex Education|             Unknown|Asa Butterfield, ...|      United Kingdom|2021-09-17|        2020| TV-MA|3 Seasons|British TV Shows,...|Insecure Otis has...|\n",
      "|   s461|  Movie|           Surf's Up|Ash Brannon, Chri...|Shia LaBeouf, Jef...|United States, Ca...|2021-07-15|        2007|    PG|   86 min|Children & Family...|This Oscar-nomina...|\n",
      "|   s695|  Movie|               Aziza|      Soudade Kaadan|Caress Bashar, Ab...|      Lebanon, Syria|2021-06-17|        2019| TV-PG|   13 min|Comedies, Dramas,...|This short film f...|\n",
      "|   s730|  Movie|Bling Empire - Th...|             Unknown|David Spade, Lond...|             Unknown|2021-06-12|        2021| TV-MA|   36 min|              Movies|\"The stars of \"\"B...|\n",
      "|   s883|  Movie|Jungle Beat: The ...|         Brent Dawes|Ed Kear, David Me...|           Mauritius|2021-05-14|        2021| TV-Y7|   90 min|Children & Family...|When a lost and l...|\n",
      "|  s1028|  Movie|        Crimson Peak|  Guillermo del Toro|Mia Wasikowska, J...|Canada, United St...|2021-04-16|        2015|     R|  119 min|Horror Movies, Ro...|After marrying a ...|\n",
      "|  s1113|  Movie|    Woody Woodpecker|           Alex Zamm|Timothy Omundson,...|       United States|2021-04-02|        2017|    PG|   91 min|Children & Family...|A rascally bird w...|\n",
      "|  s1350|TV Show|Pablo Escobar, el...|             Unknown|Andrés Parra, Ang...|            Colombia|2021-02-03|        2012| TV-MA| 1 Season|Crime TV Shows, I...|From his days as ...|\n",
      "|  s1733|  Movie|      Alone/Together|  Antoinette Jadaone|Liza Soberano, En...|         Philippines|2020-11-05|        2019| TV-14|  103 min|Dramas, Internati...|Eight years after...|\n",
      "|  s1879|TV Show|             The 100|             Unknown|Eliza Taylor, Pai...|United States, Ca...|2020-10-08|        2020| TV-MA|7 Seasons|TV Action & Adven...|A century after E...|\n",
      "|  s2483|  Movie|      Bye Bye London|  Almunsif Alsuwaisi|Abdulhussain Abdu...|              Kuwait|2020-05-21|        1981| TV-14|  177 min|Comedies, Dramas,...|In this satirical...|\n",
      "|  s2652|TV Show|       Absurd Planet|             Unknown|         Afi Ekulona|       United States|2020-04-22|        2020| TV-PG| 1 Season|Docuseries, Scien...|A cast of quirky ...|\n",
      "|  s2886|  Movie|   When Love Happens|       Seyi Babatope|Weruche Opia, Gid...|             Nigeria|2020-02-26|        2014| TV-14|  109 min|International Mov...|Fed up with coord...|\n",
      "|  s3019|  Movie|              Legend|     Brian Helgeland|Tom Hardy, Emily ...|United Kingdom, F...|2020-01-16|        2015|     R|  132 min|Dramas, Internati...|Identical twins a...|\n",
      "|  s3058|  Movie|  Garfield Gets Real|Mark A.Z. Dippé, ...|Frank Welker, Wal...|       United States|2020-01-01|        2007|  TV-Y|   78 min|Children & Family...|\"After trying to ...|\n",
      "|  s3445|TV Show|Legend Quest: Mas...|             Unknown|Johnny Rose, Anne...|              Mexico|2019-10-05|        2019| TV-Y7| 1 Season|Kids' TV, Spanish...|When mythical cre...|\n",
      "|  s3521|  Movie|       Locked on You|      Kıvanç Baruönü|Ata Demirer, Deme...|              Turkey|2019-09-13|        2018| TV-14|  105 min|Comedies, Interna...|When his chatty n...|\n",
      "|  s3731|  Movie|     The Wolf's Call|      Antonin Baudry|François Civil, O...|              France|2019-06-20|        2019| TV-14|  116 min|Dramas, Internati...|With nuclear war ...|\n",
      "|  s3934|  Movie|Petta (Telugu Ver...|    Karthik Subbaraj|Rajnikanth, Vijay...|             Unknown|2019-04-07|        2019| TV-14|  170 min|Action & Adventur...|An affable, newly...|\n",
      "|  s3979|  Movie|       Oversize Cops|Chanon Yingyong, ...|Sarun Cinsuvapala...|            Thailand|2019-03-23|        2017| TV-MA|  100 min|Action & Adventur...|While investigati...|\n",
      "+-------+-------+--------------------+--------------------+--------------------+--------------------+----------+------------+------+---------+--------------------+--------------------+\n",
      "only showing top 20 rows\n",
      "\n"
     ]
    }
   ],
   "source": [
    "from pyspark.sql.functions import to_date, col\n",
    "\n",
    "df_bronze = df_bronze.withColumn(\"date_added\", to_date(col(\"date_added\"), \"MMMM d, yyyy\")) \\\n",
    "       .withColumn(\"release_year\", col(\"release_year\").cast(\"int\"))\n",
    "\n",
    "df_bronze.show()"
   ]
  },
  {
   "cell_type": "code",
   "execution_count": 38,
   "id": "79954986-017d-4a9a-afcc-383a1e50c8da",
   "metadata": {},
   "outputs": [
    {
     "name": "stdout",
     "output_type": "stream",
     "text": [
      "+-------+-------+--------------------+--------------------+--------------------+--------------------+----------+------------+------+---------+--------------------+--------------------+\n",
      "|show_id|   type|               title|            director|                cast|             country|date_added|release_year|rating| duration|           listed_in|         description|\n",
      "+-------+-------+--------------------+--------------------+--------------------+--------------------+----------+------------+------+---------+--------------------+--------------------+\n",
      "|    s33|TV Show|       Sex Education|             Unknown|Asa Butterfield, ...|      United Kingdom|2021-09-17|        2020| TV-MA|3 Seasons|British TV Shows,...|Insecure Otis has...|\n",
      "|   s461|  Movie|           Surf's Up|Ash Brannon, Chri...|Shia LaBeouf, Jef...|United States, Ca...|2021-07-15|        2007|    PG|   86 min|Children & Family...|This Oscar-nomina...|\n",
      "|   s695|  Movie|               Aziza|      Soudade Kaadan|Caress Bashar, Ab...|      Lebanon, Syria|2021-06-17|        2019| TV-PG|   13 min|Comedies, Dramas,...|This short film f...|\n",
      "|   s730|  Movie|Bling Empire - Th...|             Unknown|David Spade, Lond...|             Unknown|2021-06-12|        2021| TV-MA|   36 min|              Movies|\"The stars of \"\"B...|\n",
      "|   s883|  Movie|Jungle Beat: The ...|         Brent Dawes|Ed Kear, David Me...|           Mauritius|2021-05-14|        2021| TV-Y7|   90 min|Children & Family...|When a lost and l...|\n",
      "|  s1028|  Movie|        Crimson Peak|  Guillermo del Toro|Mia Wasikowska, J...|Canada, United St...|2021-04-16|        2015|     R|  119 min|Horror Movies, Ro...|After marrying a ...|\n",
      "|  s1113|  Movie|    Woody Woodpecker|           Alex Zamm|Timothy Omundson,...|       United States|2021-04-02|        2017|    PG|   91 min|Children & Family...|A rascally bird w...|\n",
      "|  s1350|TV Show|Pablo Escobar, el...|             Unknown|Andrés Parra, Ang...|            Colombia|2021-02-03|        2012| TV-MA| 1 Season|Crime TV Shows, I...|From his days as ...|\n",
      "|  s1733|  Movie|      Alone/Together|  Antoinette Jadaone|Liza Soberano, En...|         Philippines|2020-11-05|        2019| TV-14|  103 min|Dramas, Internati...|Eight years after...|\n",
      "|  s1879|TV Show|             The 100|             Unknown|Eliza Taylor, Pai...|United States, Ca...|2020-10-08|        2020| TV-MA|7 Seasons|TV Action & Adven...|A century after E...|\n",
      "|  s2483|  Movie|      Bye Bye London|  Almunsif Alsuwaisi|Abdulhussain Abdu...|              Kuwait|2020-05-21|        1981| TV-14|  177 min|Comedies, Dramas,...|In this satirical...|\n",
      "|  s2652|TV Show|       Absurd Planet|             Unknown|         Afi Ekulona|       United States|2020-04-22|        2020| TV-PG| 1 Season|Docuseries, Scien...|A cast of quirky ...|\n",
      "|  s2886|  Movie|   When Love Happens|       Seyi Babatope|Weruche Opia, Gid...|             Nigeria|2020-02-26|        2014| TV-14|  109 min|International Mov...|Fed up with coord...|\n",
      "|  s3019|  Movie|              Legend|     Brian Helgeland|Tom Hardy, Emily ...|United Kingdom, F...|2020-01-16|        2015|     R|  132 min|Dramas, Internati...|Identical twins a...|\n",
      "|  s3058|  Movie|  Garfield Gets Real|Mark A.Z. Dippé, ...|Frank Welker, Wal...|       United States|2020-01-01|        2007|  TV-Y|   78 min|Children & Family...|\"After trying to ...|\n",
      "|  s3445|TV Show|Legend Quest: Mas...|             Unknown|Johnny Rose, Anne...|              Mexico|2019-10-05|        2019| TV-Y7| 1 Season|Kids' TV, Spanish...|When mythical cre...|\n",
      "|  s3521|  Movie|       Locked on You|      Kıvanç Baruönü|Ata Demirer, Deme...|              Turkey|2019-09-13|        2018| TV-14|  105 min|Comedies, Interna...|When his chatty n...|\n",
      "|  s3731|  Movie|     The Wolf's Call|      Antonin Baudry|François Civil, O...|              France|2019-06-20|        2019| TV-14|  116 min|Dramas, Internati...|With nuclear war ...|\n",
      "|  s3934|  Movie|Petta (Telugu Ver...|    Karthik Subbaraj|Rajnikanth, Vijay...|             Unknown|2019-04-07|        2019| TV-14|  170 min|Action & Adventur...|An affable, newly...|\n",
      "|  s3979|  Movie|       Oversize Cops|Chanon Yingyong, ...|Sarun Cinsuvapala...|            Thailand|2019-03-23|        2017| TV-MA|  100 min|Action & Adventur...|While investigati...|\n",
      "+-------+-------+--------------------+--------------------+--------------------+--------------------+----------+------------+------+---------+--------------------+--------------------+\n",
      "only showing top 20 rows\n",
      "\n"
     ]
    }
   ],
   "source": [
    "df_bronze = df_bronze.toDF(*[c.lower().replace(\" \", \"_\") for c in df.columns])\n",
    "df_bronze.show()"
   ]
  },
  {
   "cell_type": "code",
   "execution_count": 39,
   "id": "b81e36e3-da0d-4d57-8f35-c0dd08306966",
   "metadata": {},
   "outputs": [
    {
     "name": "stdout",
     "output_type": "stream",
     "text": [
      "+-------+-------+--------------------+--------------------+--------------------+--------------------+----------+------------+------+---------+--------------------+--------------------+------------+-------------+\n",
      "|show_id|   type|               title|            director|                cast|             country|date_added|release_year|rating| duration|           listed_in|         description|duration_int|duration_type|\n",
      "+-------+-------+--------------------+--------------------+--------------------+--------------------+----------+------------+------+---------+--------------------+--------------------+------------+-------------+\n",
      "|    s33|TV Show|       Sex Education|             Unknown|Asa Butterfield, ...|      United Kingdom|2021-09-17|        2020| TV-MA|3 Seasons|British TV Shows,...|Insecure Otis has...|           3|      Seasons|\n",
      "|   s461|  Movie|           Surf's Up|Ash Brannon, Chri...|Shia LaBeouf, Jef...|United States, Ca...|2021-07-15|        2007|    PG|   86 min|Children & Family...|This Oscar-nomina...|          86|          min|\n",
      "|   s695|  Movie|               Aziza|      Soudade Kaadan|Caress Bashar, Ab...|      Lebanon, Syria|2021-06-17|        2019| TV-PG|   13 min|Comedies, Dramas,...|This short film f...|          13|          min|\n",
      "|   s730|  Movie|Bling Empire - Th...|             Unknown|David Spade, Lond...|             Unknown|2021-06-12|        2021| TV-MA|   36 min|              Movies|\"The stars of \"\"B...|          36|          min|\n",
      "|   s883|  Movie|Jungle Beat: The ...|         Brent Dawes|Ed Kear, David Me...|           Mauritius|2021-05-14|        2021| TV-Y7|   90 min|Children & Family...|When a lost and l...|          90|          min|\n",
      "|  s1028|  Movie|        Crimson Peak|  Guillermo del Toro|Mia Wasikowska, J...|Canada, United St...|2021-04-16|        2015|     R|  119 min|Horror Movies, Ro...|After marrying a ...|         119|          min|\n",
      "|  s1113|  Movie|    Woody Woodpecker|           Alex Zamm|Timothy Omundson,...|       United States|2021-04-02|        2017|    PG|   91 min|Children & Family...|A rascally bird w...|          91|          min|\n",
      "|  s1350|TV Show|Pablo Escobar, el...|             Unknown|Andrés Parra, Ang...|            Colombia|2021-02-03|        2012| TV-MA| 1 Season|Crime TV Shows, I...|From his days as ...|           1|       Season|\n",
      "|  s1733|  Movie|      Alone/Together|  Antoinette Jadaone|Liza Soberano, En...|         Philippines|2020-11-05|        2019| TV-14|  103 min|Dramas, Internati...|Eight years after...|         103|          min|\n",
      "|  s1879|TV Show|             The 100|             Unknown|Eliza Taylor, Pai...|United States, Ca...|2020-10-08|        2020| TV-MA|7 Seasons|TV Action & Adven...|A century after E...|           7|      Seasons|\n",
      "|  s2483|  Movie|      Bye Bye London|  Almunsif Alsuwaisi|Abdulhussain Abdu...|              Kuwait|2020-05-21|        1981| TV-14|  177 min|Comedies, Dramas,...|In this satirical...|         177|          min|\n",
      "|  s2652|TV Show|       Absurd Planet|             Unknown|         Afi Ekulona|       United States|2020-04-22|        2020| TV-PG| 1 Season|Docuseries, Scien...|A cast of quirky ...|           1|       Season|\n",
      "|  s2886|  Movie|   When Love Happens|       Seyi Babatope|Weruche Opia, Gid...|             Nigeria|2020-02-26|        2014| TV-14|  109 min|International Mov...|Fed up with coord...|         109|          min|\n",
      "|  s3019|  Movie|              Legend|     Brian Helgeland|Tom Hardy, Emily ...|United Kingdom, F...|2020-01-16|        2015|     R|  132 min|Dramas, Internati...|Identical twins a...|         132|          min|\n",
      "|  s3058|  Movie|  Garfield Gets Real|Mark A.Z. Dippé, ...|Frank Welker, Wal...|       United States|2020-01-01|        2007|  TV-Y|   78 min|Children & Family...|\"After trying to ...|          78|          min|\n",
      "|  s3445|TV Show|Legend Quest: Mas...|             Unknown|Johnny Rose, Anne...|              Mexico|2019-10-05|        2019| TV-Y7| 1 Season|Kids' TV, Spanish...|When mythical cre...|           1|       Season|\n",
      "|  s3521|  Movie|       Locked on You|      Kıvanç Baruönü|Ata Demirer, Deme...|              Turkey|2019-09-13|        2018| TV-14|  105 min|Comedies, Interna...|When his chatty n...|         105|          min|\n",
      "|  s3731|  Movie|     The Wolf's Call|      Antonin Baudry|François Civil, O...|              France|2019-06-20|        2019| TV-14|  116 min|Dramas, Internati...|With nuclear war ...|         116|          min|\n",
      "|  s3934|  Movie|Petta (Telugu Ver...|    Karthik Subbaraj|Rajnikanth, Vijay...|             Unknown|2019-04-07|        2019| TV-14|  170 min|Action & Adventur...|An affable, newly...|         170|          min|\n",
      "|  s3979|  Movie|       Oversize Cops|Chanon Yingyong, ...|Sarun Cinsuvapala...|            Thailand|2019-03-23|        2017| TV-MA|  100 min|Action & Adventur...|While investigati...|         100|          min|\n",
      "+-------+-------+--------------------+--------------------+--------------------+--------------------+----------+------------+------+---------+--------------------+--------------------+------------+-------------+\n",
      "only showing top 20 rows\n",
      "\n"
     ]
    }
   ],
   "source": [
    "from pyspark.sql.functions import regexp_extract\n",
    "\n",
    "df_bronze = df_bronze.withColumn(\"duration_int\", regexp_extract(col(\"duration\"), r\"(\\d+)\", 1).cast(\"int\")) \\\n",
    "       .withColumn(\"duration_type\", regexp_extract(col(\"duration\"), r\"([A-Za-z]+)\", 1))\n",
    "df_bronze.show()"
   ]
  },
  {
   "cell_type": "code",
   "execution_count": 40,
   "id": "3942bd77-8ec4-4f4c-82d3-0ae7582af7e8",
   "metadata": {},
   "outputs": [
    {
     "name": "stdout",
     "output_type": "stream",
     "text": [
      "+-------+-------+--------------------+--------------------+--------------------+--------------------+----------+------------+------+---------+--------------------+--------------------+------------+-------------+----------+-----------+\n",
      "|show_id|   type|               title|            director|                cast|             country|date_added|release_year|rating| duration|           listed_in|         description|duration_int|duration_type|added_year|added_month|\n",
      "+-------+-------+--------------------+--------------------+--------------------+--------------------+----------+------------+------+---------+--------------------+--------------------+------------+-------------+----------+-----------+\n",
      "|    s33|TV Show|       Sex Education|             Unknown|Asa Butterfield, ...|      United Kingdom|2021-09-17|        2020| TV-MA|3 Seasons|British TV Shows,...|Insecure Otis has...|           3|      Seasons|      2021|          9|\n",
      "|   s461|  Movie|           Surf's Up|Ash Brannon, Chri...|Shia LaBeouf, Jef...|United States, Ca...|2021-07-15|        2007|    PG|   86 min|Children & Family...|This Oscar-nomina...|          86|          min|      2021|          7|\n",
      "|   s695|  Movie|               Aziza|      Soudade Kaadan|Caress Bashar, Ab...|      Lebanon, Syria|2021-06-17|        2019| TV-PG|   13 min|Comedies, Dramas,...|This short film f...|          13|          min|      2021|          6|\n",
      "|   s730|  Movie|Bling Empire - Th...|             Unknown|David Spade, Lond...|             Unknown|2021-06-12|        2021| TV-MA|   36 min|              Movies|\"The stars of \"\"B...|          36|          min|      2021|          6|\n",
      "|   s883|  Movie|Jungle Beat: The ...|         Brent Dawes|Ed Kear, David Me...|           Mauritius|2021-05-14|        2021| TV-Y7|   90 min|Children & Family...|When a lost and l...|          90|          min|      2021|          5|\n",
      "|  s1028|  Movie|        Crimson Peak|  Guillermo del Toro|Mia Wasikowska, J...|Canada, United St...|2021-04-16|        2015|     R|  119 min|Horror Movies, Ro...|After marrying a ...|         119|          min|      2021|          4|\n",
      "|  s1113|  Movie|    Woody Woodpecker|           Alex Zamm|Timothy Omundson,...|       United States|2021-04-02|        2017|    PG|   91 min|Children & Family...|A rascally bird w...|          91|          min|      2021|          4|\n",
      "|  s1350|TV Show|Pablo Escobar, el...|             Unknown|Andrés Parra, Ang...|            Colombia|2021-02-03|        2012| TV-MA| 1 Season|Crime TV Shows, I...|From his days as ...|           1|       Season|      2021|          2|\n",
      "|  s1733|  Movie|      Alone/Together|  Antoinette Jadaone|Liza Soberano, En...|         Philippines|2020-11-05|        2019| TV-14|  103 min|Dramas, Internati...|Eight years after...|         103|          min|      2020|         11|\n",
      "|  s1879|TV Show|             The 100|             Unknown|Eliza Taylor, Pai...|United States, Ca...|2020-10-08|        2020| TV-MA|7 Seasons|TV Action & Adven...|A century after E...|           7|      Seasons|      2020|         10|\n",
      "|  s2483|  Movie|      Bye Bye London|  Almunsif Alsuwaisi|Abdulhussain Abdu...|              Kuwait|2020-05-21|        1981| TV-14|  177 min|Comedies, Dramas,...|In this satirical...|         177|          min|      2020|          5|\n",
      "|  s2652|TV Show|       Absurd Planet|             Unknown|         Afi Ekulona|       United States|2020-04-22|        2020| TV-PG| 1 Season|Docuseries, Scien...|A cast of quirky ...|           1|       Season|      2020|          4|\n",
      "|  s2886|  Movie|   When Love Happens|       Seyi Babatope|Weruche Opia, Gid...|             Nigeria|2020-02-26|        2014| TV-14|  109 min|International Mov...|Fed up with coord...|         109|          min|      2020|          2|\n",
      "|  s3019|  Movie|              Legend|     Brian Helgeland|Tom Hardy, Emily ...|United Kingdom, F...|2020-01-16|        2015|     R|  132 min|Dramas, Internati...|Identical twins a...|         132|          min|      2020|          1|\n",
      "|  s3058|  Movie|  Garfield Gets Real|Mark A.Z. Dippé, ...|Frank Welker, Wal...|       United States|2020-01-01|        2007|  TV-Y|   78 min|Children & Family...|\"After trying to ...|          78|          min|      2020|          1|\n",
      "|  s3445|TV Show|Legend Quest: Mas...|             Unknown|Johnny Rose, Anne...|              Mexico|2019-10-05|        2019| TV-Y7| 1 Season|Kids' TV, Spanish...|When mythical cre...|           1|       Season|      2019|         10|\n",
      "|  s3521|  Movie|       Locked on You|      Kıvanç Baruönü|Ata Demirer, Deme...|              Turkey|2019-09-13|        2018| TV-14|  105 min|Comedies, Interna...|When his chatty n...|         105|          min|      2019|          9|\n",
      "|  s3731|  Movie|     The Wolf's Call|      Antonin Baudry|François Civil, O...|              France|2019-06-20|        2019| TV-14|  116 min|Dramas, Internati...|With nuclear war ...|         116|          min|      2019|          6|\n",
      "|  s3934|  Movie|Petta (Telugu Ver...|    Karthik Subbaraj|Rajnikanth, Vijay...|             Unknown|2019-04-07|        2019| TV-14|  170 min|Action & Adventur...|An affable, newly...|         170|          min|      2019|          4|\n",
      "|  s3979|  Movie|       Oversize Cops|Chanon Yingyong, ...|Sarun Cinsuvapala...|            Thailand|2019-03-23|        2017| TV-MA|  100 min|Action & Adventur...|While investigati...|         100|          min|      2019|          3|\n",
      "+-------+-------+--------------------+--------------------+--------------------+--------------------+----------+------------+------+---------+--------------------+--------------------+------------+-------------+----------+-----------+\n",
      "only showing top 20 rows\n",
      "\n"
     ]
    }
   ],
   "source": [
    "from pyspark.sql.functions import year, month\n",
    "\n",
    "df_bronze = df_bronze.withColumn(\"added_year\", year(\"date_added\")) \\\n",
    "       .withColumn(\"added_month\", month(\"date_added\"))\n",
    "\n",
    "df_bronze.show()"
   ]
  },
  {
   "cell_type": "code",
   "execution_count": 42,
   "id": "c47846c9-5183-4030-8c2c-ecfa05729460",
   "metadata": {},
   "outputs": [
    {
     "name": "stdout",
     "output_type": "stream",
     "text": [
      "+-------+-------+--------------------+--------------------+--------------------+--------------------+----------+------------+------+---------+--------------------+--------------------+------------+-------------+----------+-----------+--------+\n",
      "|show_id|   type|               title|            director|                cast|             country|date_added|release_year|rating| duration|           listed_in|         description|duration_int|duration_type|added_year|added_month|is_movie|\n",
      "+-------+-------+--------------------+--------------------+--------------------+--------------------+----------+------------+------+---------+--------------------+--------------------+------------+-------------+----------+-----------+--------+\n",
      "|    s33|TV Show|       Sex Education|             Unknown|Asa Butterfield, ...|      United Kingdom|2021-09-17|        2020| TV-MA|3 Seasons|British TV Shows,...|Insecure Otis has...|           3|      Seasons|      2021|          9|   false|\n",
      "|   s461|  Movie|           Surf's Up|Ash Brannon, Chri...|Shia LaBeouf, Jef...|United States, Ca...|2021-07-15|        2007|    PG|   86 min|Children & Family...|This Oscar-nomina...|          86|          min|      2021|          7|    true|\n",
      "|   s695|  Movie|               Aziza|      Soudade Kaadan|Caress Bashar, Ab...|      Lebanon, Syria|2021-06-17|        2019| TV-PG|   13 min|Comedies, Dramas,...|This short film f...|          13|          min|      2021|          6|    true|\n",
      "|   s730|  Movie|Bling Empire - Th...|             Unknown|David Spade, Lond...|             Unknown|2021-06-12|        2021| TV-MA|   36 min|              Movies|\"The stars of \"\"B...|          36|          min|      2021|          6|    true|\n",
      "|   s883|  Movie|Jungle Beat: The ...|         Brent Dawes|Ed Kear, David Me...|           Mauritius|2021-05-14|        2021| TV-Y7|   90 min|Children & Family...|When a lost and l...|          90|          min|      2021|          5|    true|\n",
      "|  s1028|  Movie|        Crimson Peak|  Guillermo del Toro|Mia Wasikowska, J...|Canada, United St...|2021-04-16|        2015|     R|  119 min|Horror Movies, Ro...|After marrying a ...|         119|          min|      2021|          4|    true|\n",
      "|  s1113|  Movie|    Woody Woodpecker|           Alex Zamm|Timothy Omundson,...|       United States|2021-04-02|        2017|    PG|   91 min|Children & Family...|A rascally bird w...|          91|          min|      2021|          4|    true|\n",
      "|  s1350|TV Show|Pablo Escobar, el...|             Unknown|Andrés Parra, Ang...|            Colombia|2021-02-03|        2012| TV-MA| 1 Season|Crime TV Shows, I...|From his days as ...|           1|       Season|      2021|          2|   false|\n",
      "|  s1733|  Movie|      Alone/Together|  Antoinette Jadaone|Liza Soberano, En...|         Philippines|2020-11-05|        2019| TV-14|  103 min|Dramas, Internati...|Eight years after...|         103|          min|      2020|         11|    true|\n",
      "|  s1879|TV Show|             The 100|             Unknown|Eliza Taylor, Pai...|United States, Ca...|2020-10-08|        2020| TV-MA|7 Seasons|TV Action & Adven...|A century after E...|           7|      Seasons|      2020|         10|   false|\n",
      "|  s2483|  Movie|      Bye Bye London|  Almunsif Alsuwaisi|Abdulhussain Abdu...|              Kuwait|2020-05-21|        1981| TV-14|  177 min|Comedies, Dramas,...|In this satirical...|         177|          min|      2020|          5|    true|\n",
      "|  s2652|TV Show|       Absurd Planet|             Unknown|         Afi Ekulona|       United States|2020-04-22|        2020| TV-PG| 1 Season|Docuseries, Scien...|A cast of quirky ...|           1|       Season|      2020|          4|   false|\n",
      "|  s2886|  Movie|   When Love Happens|       Seyi Babatope|Weruche Opia, Gid...|             Nigeria|2020-02-26|        2014| TV-14|  109 min|International Mov...|Fed up with coord...|         109|          min|      2020|          2|    true|\n",
      "|  s3019|  Movie|              Legend|     Brian Helgeland|Tom Hardy, Emily ...|United Kingdom, F...|2020-01-16|        2015|     R|  132 min|Dramas, Internati...|Identical twins a...|         132|          min|      2020|          1|    true|\n",
      "|  s3058|  Movie|  Garfield Gets Real|Mark A.Z. Dippé, ...|Frank Welker, Wal...|       United States|2020-01-01|        2007|  TV-Y|   78 min|Children & Family...|\"After trying to ...|          78|          min|      2020|          1|    true|\n",
      "|  s3445|TV Show|Legend Quest: Mas...|             Unknown|Johnny Rose, Anne...|              Mexico|2019-10-05|        2019| TV-Y7| 1 Season|Kids' TV, Spanish...|When mythical cre...|           1|       Season|      2019|         10|   false|\n",
      "|  s3521|  Movie|       Locked on You|      Kıvanç Baruönü|Ata Demirer, Deme...|              Turkey|2019-09-13|        2018| TV-14|  105 min|Comedies, Interna...|When his chatty n...|         105|          min|      2019|          9|    true|\n",
      "|  s3731|  Movie|     The Wolf's Call|      Antonin Baudry|François Civil, O...|              France|2019-06-20|        2019| TV-14|  116 min|Dramas, Internati...|With nuclear war ...|         116|          min|      2019|          6|    true|\n",
      "|  s3934|  Movie|Petta (Telugu Ver...|    Karthik Subbaraj|Rajnikanth, Vijay...|             Unknown|2019-04-07|        2019| TV-14|  170 min|Action & Adventur...|An affable, newly...|         170|          min|      2019|          4|    true|\n",
      "|  s3979|  Movie|       Oversize Cops|Chanon Yingyong, ...|Sarun Cinsuvapala...|            Thailand|2019-03-23|        2017| TV-MA|  100 min|Action & Adventur...|While investigati...|         100|          min|      2019|          3|    true|\n",
      "+-------+-------+--------------------+--------------------+--------------------+--------------------+----------+------------+------+---------+--------------------+--------------------+------------+-------------+----------+-----------+--------+\n",
      "only showing top 20 rows\n",
      "\n"
     ]
    }
   ],
   "source": [
    "df_bronze = df_bronze.withColumn(\"is_movie\", (col(\"type\") == \"Movie\"))\n",
    "df_bronze.show()"
   ]
  },
  {
   "cell_type": "code",
   "execution_count": 45,
   "id": "07e9279f-b19d-4496-89ce-05e6b19de3db",
   "metadata": {},
   "outputs": [
    {
     "name": "stdout",
     "output_type": "stream",
     "text": [
      "+-------+-------+--------------------+--------------------+--------------------+--------------------+----------+------------+------+---------+--------------------+--------------------+------------+-------------+----------+-----------+--------+--------------------+\n",
      "|show_id|   type|               title|            director|                cast|             country|date_added|release_year|rating| duration|           listed_in|         description|duration_int|duration_type|added_year|added_month|is_movie|              genres|\n",
      "+-------+-------+--------------------+--------------------+--------------------+--------------------+----------+------------+------+---------+--------------------+--------------------+------------+-------------+----------+-----------+--------+--------------------+\n",
      "|    s33|TV Show|       Sex Education|             Unknown|Asa Butterfield, ...|      United Kingdom|2021-09-17|        2020| TV-MA|3 Seasons|British TV Shows,...|Insecure Otis has...|           3|      Seasons|      2021|          9|   false|[British TV Shows...|\n",
      "|   s461|  Movie|           Surf's Up|Ash Brannon, Chri...|Shia LaBeouf, Jef...|United States, Ca...|2021-07-15|        2007|    PG|   86 min|Children & Family...|This Oscar-nomina...|          86|          min|      2021|          7|    true|[Children & Famil...|\n",
      "|   s695|  Movie|               Aziza|      Soudade Kaadan|Caress Bashar, Ab...|      Lebanon, Syria|2021-06-17|        2019| TV-PG|   13 min|Comedies, Dramas,...|This short film f...|          13|          min|      2021|          6|    true|[Comedies, Dramas...|\n",
      "|   s730|  Movie|Bling Empire - Th...|             Unknown|David Spade, Lond...|             Unknown|2021-06-12|        2021| TV-MA|   36 min|              Movies|\"The stars of \"\"B...|          36|          min|      2021|          6|    true|            [Movies]|\n",
      "|   s883|  Movie|Jungle Beat: The ...|         Brent Dawes|Ed Kear, David Me...|           Mauritius|2021-05-14|        2021| TV-Y7|   90 min|Children & Family...|When a lost and l...|          90|          min|      2021|          5|    true|[Children & Famil...|\n",
      "|  s1028|  Movie|        Crimson Peak|  Guillermo del Toro|Mia Wasikowska, J...|Canada, United St...|2021-04-16|        2015|     R|  119 min|Horror Movies, Ro...|After marrying a ...|         119|          min|      2021|          4|    true|[Horror Movies, R...|\n",
      "|  s1113|  Movie|    Woody Woodpecker|           Alex Zamm|Timothy Omundson,...|       United States|2021-04-02|        2017|    PG|   91 min|Children & Family...|A rascally bird w...|          91|          min|      2021|          4|    true|[Children & Famil...|\n",
      "|  s1350|TV Show|Pablo Escobar, el...|             Unknown|Andrés Parra, Ang...|            Colombia|2021-02-03|        2012| TV-MA| 1 Season|Crime TV Shows, I...|From his days as ...|           1|       Season|      2021|          2|   false|[Crime TV Shows, ...|\n",
      "|  s1733|  Movie|      Alone/Together|  Antoinette Jadaone|Liza Soberano, En...|         Philippines|2020-11-05|        2019| TV-14|  103 min|Dramas, Internati...|Eight years after...|         103|          min|      2020|         11|    true|[Dramas, Internat...|\n",
      "|  s1879|TV Show|             The 100|             Unknown|Eliza Taylor, Pai...|United States, Ca...|2020-10-08|        2020| TV-MA|7 Seasons|TV Action & Adven...|A century after E...|           7|      Seasons|      2020|         10|   false|[TV Action & Adve...|\n",
      "|  s2483|  Movie|      Bye Bye London|  Almunsif Alsuwaisi|Abdulhussain Abdu...|              Kuwait|2020-05-21|        1981| TV-14|  177 min|Comedies, Dramas,...|In this satirical...|         177|          min|      2020|          5|    true|[Comedies, Dramas...|\n",
      "|  s2652|TV Show|       Absurd Planet|             Unknown|         Afi Ekulona|       United States|2020-04-22|        2020| TV-PG| 1 Season|Docuseries, Scien...|A cast of quirky ...|           1|       Season|      2020|          4|   false|[Docuseries, Scie...|\n",
      "|  s2886|  Movie|   When Love Happens|       Seyi Babatope|Weruche Opia, Gid...|             Nigeria|2020-02-26|        2014| TV-14|  109 min|International Mov...|Fed up with coord...|         109|          min|      2020|          2|    true|[International Mo...|\n",
      "|  s3019|  Movie|              Legend|     Brian Helgeland|Tom Hardy, Emily ...|United Kingdom, F...|2020-01-16|        2015|     R|  132 min|Dramas, Internati...|Identical twins a...|         132|          min|      2020|          1|    true|[Dramas, Internat...|\n",
      "|  s3058|  Movie|  Garfield Gets Real|Mark A.Z. Dippé, ...|Frank Welker, Wal...|       United States|2020-01-01|        2007|  TV-Y|   78 min|Children & Family...|\"After trying to ...|          78|          min|      2020|          1|    true|[Children & Famil...|\n",
      "|  s3445|TV Show|Legend Quest: Mas...|             Unknown|Johnny Rose, Anne...|              Mexico|2019-10-05|        2019| TV-Y7| 1 Season|Kids' TV, Spanish...|When mythical cre...|           1|       Season|      2019|         10|   false|[Kids' TV, Spanis...|\n",
      "|  s3521|  Movie|       Locked on You|      Kıvanç Baruönü|Ata Demirer, Deme...|              Turkey|2019-09-13|        2018| TV-14|  105 min|Comedies, Interna...|When his chatty n...|         105|          min|      2019|          9|    true|[Comedies, Intern...|\n",
      "|  s3731|  Movie|     The Wolf's Call|      Antonin Baudry|François Civil, O...|              France|2019-06-20|        2019| TV-14|  116 min|Dramas, Internati...|With nuclear war ...|         116|          min|      2019|          6|    true|[Dramas, Internat...|\n",
      "|  s3934|  Movie|Petta (Telugu Ver...|    Karthik Subbaraj|Rajnikanth, Vijay...|             Unknown|2019-04-07|        2019| TV-14|  170 min|Action & Adventur...|An affable, newly...|         170|          min|      2019|          4|    true|[Action & Adventu...|\n",
      "|  s3979|  Movie|       Oversize Cops|Chanon Yingyong, ...|Sarun Cinsuvapala...|            Thailand|2019-03-23|        2017| TV-MA|  100 min|Action & Adventur...|While investigati...|         100|          min|      2019|          3|    true|[Action & Adventu...|\n",
      "+-------+-------+--------------------+--------------------+--------------------+--------------------+----------+------------+------+---------+--------------------+--------------------+------------+-------------+----------+-----------+--------+--------------------+\n",
      "only showing top 20 rows\n",
      "\n"
     ]
    }
   ],
   "source": [
    "from pyspark.sql.functions import split\n",
    "\n",
    "df_bronze = df_bronze.withColumn(\"genres\", split(col(\"listed_in\"), \",\\\\s*\"))\n",
    "df_bronze.show()"
   ]
  },
  {
   "cell_type": "code",
   "execution_count": 46,
   "id": "e4525934-0217-4496-9d9d-00f467124441",
   "metadata": {},
   "outputs": [
    {
     "name": "stdout",
     "output_type": "stream",
     "text": [
      "+-------+-------+--------------------+--------------------+--------------------+--------------------+----------+------------+------+---------+--------------------+--------------------+------------+-------------+----------+-----------+--------+--------------------+--------------+\n",
      "|show_id|   type|               title|            director|                cast|             country|date_added|release_year|rating| duration|           listed_in|         description|duration_int|duration_type|added_year|added_month|is_movie|              genres|  main_country|\n",
      "+-------+-------+--------------------+--------------------+--------------------+--------------------+----------+------------+------+---------+--------------------+--------------------+------------+-------------+----------+-----------+--------+--------------------+--------------+\n",
      "|    s33|TV Show|       Sex Education|             Unknown|Asa Butterfield, ...|      United Kingdom|2021-09-17|        2020| TV-MA|3 Seasons|British TV Shows,...|Insecure Otis has...|           3|      Seasons|      2021|          9|   false|[British TV Shows...|United Kingdom|\n",
      "|   s461|  Movie|           Surf's Up|Ash Brannon, Chri...|Shia LaBeouf, Jef...|United States, Ca...|2021-07-15|        2007|    PG|   86 min|Children & Family...|This Oscar-nomina...|          86|          min|      2021|          7|    true|[Children & Famil...| United States|\n",
      "|   s695|  Movie|               Aziza|      Soudade Kaadan|Caress Bashar, Ab...|      Lebanon, Syria|2021-06-17|        2019| TV-PG|   13 min|Comedies, Dramas,...|This short film f...|          13|          min|      2021|          6|    true|[Comedies, Dramas...|       Lebanon|\n",
      "|   s730|  Movie|Bling Empire - Th...|             Unknown|David Spade, Lond...|             Unknown|2021-06-12|        2021| TV-MA|   36 min|              Movies|\"The stars of \"\"B...|          36|          min|      2021|          6|    true|            [Movies]|       Unknown|\n",
      "|   s883|  Movie|Jungle Beat: The ...|         Brent Dawes|Ed Kear, David Me...|           Mauritius|2021-05-14|        2021| TV-Y7|   90 min|Children & Family...|When a lost and l...|          90|          min|      2021|          5|    true|[Children & Famil...|     Mauritius|\n",
      "|  s1028|  Movie|        Crimson Peak|  Guillermo del Toro|Mia Wasikowska, J...|Canada, United St...|2021-04-16|        2015|     R|  119 min|Horror Movies, Ro...|After marrying a ...|         119|          min|      2021|          4|    true|[Horror Movies, R...|        Canada|\n",
      "|  s1113|  Movie|    Woody Woodpecker|           Alex Zamm|Timothy Omundson,...|       United States|2021-04-02|        2017|    PG|   91 min|Children & Family...|A rascally bird w...|          91|          min|      2021|          4|    true|[Children & Famil...| United States|\n",
      "|  s1350|TV Show|Pablo Escobar, el...|             Unknown|Andrés Parra, Ang...|            Colombia|2021-02-03|        2012| TV-MA| 1 Season|Crime TV Shows, I...|From his days as ...|           1|       Season|      2021|          2|   false|[Crime TV Shows, ...|      Colombia|\n",
      "|  s1733|  Movie|      Alone/Together|  Antoinette Jadaone|Liza Soberano, En...|         Philippines|2020-11-05|        2019| TV-14|  103 min|Dramas, Internati...|Eight years after...|         103|          min|      2020|         11|    true|[Dramas, Internat...|   Philippines|\n",
      "|  s1879|TV Show|             The 100|             Unknown|Eliza Taylor, Pai...|United States, Ca...|2020-10-08|        2020| TV-MA|7 Seasons|TV Action & Adven...|A century after E...|           7|      Seasons|      2020|         10|   false|[TV Action & Adve...| United States|\n",
      "|  s2483|  Movie|      Bye Bye London|  Almunsif Alsuwaisi|Abdulhussain Abdu...|              Kuwait|2020-05-21|        1981| TV-14|  177 min|Comedies, Dramas,...|In this satirical...|         177|          min|      2020|          5|    true|[Comedies, Dramas...|        Kuwait|\n",
      "|  s2652|TV Show|       Absurd Planet|             Unknown|         Afi Ekulona|       United States|2020-04-22|        2020| TV-PG| 1 Season|Docuseries, Scien...|A cast of quirky ...|           1|       Season|      2020|          4|   false|[Docuseries, Scie...| United States|\n",
      "|  s2886|  Movie|   When Love Happens|       Seyi Babatope|Weruche Opia, Gid...|             Nigeria|2020-02-26|        2014| TV-14|  109 min|International Mov...|Fed up with coord...|         109|          min|      2020|          2|    true|[International Mo...|       Nigeria|\n",
      "|  s3019|  Movie|              Legend|     Brian Helgeland|Tom Hardy, Emily ...|United Kingdom, F...|2020-01-16|        2015|     R|  132 min|Dramas, Internati...|Identical twins a...|         132|          min|      2020|          1|    true|[Dramas, Internat...|United Kingdom|\n",
      "|  s3058|  Movie|  Garfield Gets Real|Mark A.Z. Dippé, ...|Frank Welker, Wal...|       United States|2020-01-01|        2007|  TV-Y|   78 min|Children & Family...|\"After trying to ...|          78|          min|      2020|          1|    true|[Children & Famil...| United States|\n",
      "|  s3445|TV Show|Legend Quest: Mas...|             Unknown|Johnny Rose, Anne...|              Mexico|2019-10-05|        2019| TV-Y7| 1 Season|Kids' TV, Spanish...|When mythical cre...|           1|       Season|      2019|         10|   false|[Kids' TV, Spanis...|        Mexico|\n",
      "|  s3521|  Movie|       Locked on You|      Kıvanç Baruönü|Ata Demirer, Deme...|              Turkey|2019-09-13|        2018| TV-14|  105 min|Comedies, Interna...|When his chatty n...|         105|          min|      2019|          9|    true|[Comedies, Intern...|        Turkey|\n",
      "|  s3731|  Movie|     The Wolf's Call|      Antonin Baudry|François Civil, O...|              France|2019-06-20|        2019| TV-14|  116 min|Dramas, Internati...|With nuclear war ...|         116|          min|      2019|          6|    true|[Dramas, Internat...|        France|\n",
      "|  s3934|  Movie|Petta (Telugu Ver...|    Karthik Subbaraj|Rajnikanth, Vijay...|             Unknown|2019-04-07|        2019| TV-14|  170 min|Action & Adventur...|An affable, newly...|         170|          min|      2019|          4|    true|[Action & Adventu...|       Unknown|\n",
      "|  s3979|  Movie|       Oversize Cops|Chanon Yingyong, ...|Sarun Cinsuvapala...|            Thailand|2019-03-23|        2017| TV-MA|  100 min|Action & Adventur...|While investigati...|         100|          min|      2019|          3|    true|[Action & Adventu...|      Thailand|\n",
      "+-------+-------+--------------------+--------------------+--------------------+--------------------+----------+------------+------+---------+--------------------+--------------------+------------+-------------+----------+-----------+--------+--------------------+--------------+\n",
      "only showing top 20 rows\n",
      "\n"
     ]
    }
   ],
   "source": [
    "from pyspark.sql.functions import split\n",
    "\n",
    "df_bronze = df_bronze.withColumn(\"main_country\", split(col(\"country\"), \",\")[0])\n",
    "df_bronze.show()"
   ]
  },
  {
   "cell_type": "code",
   "execution_count": 48,
   "id": "ea6736b8-f8f2-4d21-9570-ef0ca8d24820",
   "metadata": {},
   "outputs": [
    {
     "name": "stdout",
     "output_type": "stream",
     "text": [
      "+-------+-------+--------------------+--------------------+--------------------+--------------------+----------+------------+------+---------+--------------------+--------------------+------------+-------------+----------+-----------+--------+--------------------+--------------+\n",
      "|show_id|   type|               title|            director|                cast|             country|date_added|release_year|rating| duration|           listed_in|         description|duration_int|duration_type|added_year|added_month|is_movie|              genres|  main_country|\n",
      "+-------+-------+--------------------+--------------------+--------------------+--------------------+----------+------------+------+---------+--------------------+--------------------+------------+-------------+----------+-----------+--------+--------------------+--------------+\n",
      "|    s33|TV Show|       Sex Education|             Unknown|Asa Butterfield, ...|      United Kingdom|2021-09-17|        2020| TV-MA|3 Seasons|British TV Shows,...|Insecure Otis has...|           3|      Seasons|      2021|          9|   false|[British TV Shows...|United Kingdom|\n",
      "|   s461|  Movie|           Surf's Up|Ash Brannon, Chri...|Shia LaBeouf, Jef...|United States, Ca...|2021-07-15|        2007|    PG|   86 min|Children & Family...|This Oscar-nomina...|          86|          min|      2021|          7|    true|[Children & Famil...| United States|\n",
      "|   s695|  Movie|               Aziza|      Soudade Kaadan|Caress Bashar, Ab...|      Lebanon, Syria|2021-06-17|        2019| TV-PG|   13 min|Comedies, Dramas,...|This short film f...|          13|          min|      2021|          6|    true|[Comedies, Dramas...|       Lebanon|\n",
      "|   s730|  Movie|Bling Empire - Th...|             Unknown|David Spade, Lond...|             Unknown|2021-06-12|        2021| TV-MA|   36 min|              Movies|The stars of \"\"Bl...|          36|          min|      2021|          6|    true|            [Movies]|       Unknown|\n",
      "|   s883|  Movie|Jungle Beat: The ...|         Brent Dawes|Ed Kear, David Me...|           Mauritius|2021-05-14|        2021| TV-Y7|   90 min|Children & Family...|When a lost and l...|          90|          min|      2021|          5|    true|[Children & Famil...|     Mauritius|\n",
      "|  s1028|  Movie|        Crimson Peak|  Guillermo del Toro|Mia Wasikowska, J...|Canada, United St...|2021-04-16|        2015|     R|  119 min|Horror Movies, Ro...|After marrying a ...|         119|          min|      2021|          4|    true|[Horror Movies, R...|        Canada|\n",
      "|  s1113|  Movie|    Woody Woodpecker|           Alex Zamm|Timothy Omundson,...|       United States|2021-04-02|        2017|    PG|   91 min|Children & Family...|A rascally bird w...|          91|          min|      2021|          4|    true|[Children & Famil...| United States|\n",
      "|  s1350|TV Show|Pablo Escobar, el...|             Unknown|Andrés Parra, Ang...|            Colombia|2021-02-03|        2012| TV-MA| 1 Season|Crime TV Shows, I...|From his days as ...|           1|       Season|      2021|          2|   false|[Crime TV Shows, ...|      Colombia|\n",
      "|  s1733|  Movie|      Alone/Together|  Antoinette Jadaone|Liza Soberano, En...|         Philippines|2020-11-05|        2019| TV-14|  103 min|Dramas, Internati...|Eight years after...|         103|          min|      2020|         11|    true|[Dramas, Internat...|   Philippines|\n",
      "|  s1879|TV Show|             The 100|             Unknown|Eliza Taylor, Pai...|United States, Ca...|2020-10-08|        2020| TV-MA|7 Seasons|TV Action & Adven...|A century after E...|           7|      Seasons|      2020|         10|   false|[TV Action & Adve...| United States|\n",
      "|  s2483|  Movie|      Bye Bye London|  Almunsif Alsuwaisi|Abdulhussain Abdu...|              Kuwait|2020-05-21|        1981| TV-14|  177 min|Comedies, Dramas,...|In this satirical...|         177|          min|      2020|          5|    true|[Comedies, Dramas...|        Kuwait|\n",
      "|  s2652|TV Show|       Absurd Planet|             Unknown|         Afi Ekulona|       United States|2020-04-22|        2020| TV-PG| 1 Season|Docuseries, Scien...|A cast of quirky ...|           1|       Season|      2020|          4|   false|[Docuseries, Scie...| United States|\n",
      "|  s2886|  Movie|   When Love Happens|       Seyi Babatope|Weruche Opia, Gid...|             Nigeria|2020-02-26|        2014| TV-14|  109 min|International Mov...|Fed up with coord...|         109|          min|      2020|          2|    true|[International Mo...|       Nigeria|\n",
      "|  s3019|  Movie|              Legend|     Brian Helgeland|Tom Hardy, Emily ...|United Kingdom, F...|2020-01-16|        2015|     R|  132 min|Dramas, Internati...|Identical twins a...|         132|          min|      2020|          1|    true|[Dramas, Internat...|United Kingdom|\n",
      "|  s3058|  Movie|  Garfield Gets Real|Mark A.Z. Dippé, ...|Frank Welker, Wal...|       United States|2020-01-01|        2007|  TV-Y|   78 min|Children & Family...|After trying to l...|          78|          min|      2020|          1|    true|[Children & Famil...| United States|\n",
      "|  s3445|TV Show|Legend Quest: Mas...|             Unknown|Johnny Rose, Anne...|              Mexico|2019-10-05|        2019| TV-Y7| 1 Season|Kids' TV, Spanish...|When mythical cre...|           1|       Season|      2019|         10|   false|[Kids' TV, Spanis...|        Mexico|\n",
      "|  s3521|  Movie|       Locked on You|      Kıvanç Baruönü|Ata Demirer, Deme...|              Turkey|2019-09-13|        2018| TV-14|  105 min|Comedies, Interna...|When his chatty n...|         105|          min|      2019|          9|    true|[Comedies, Intern...|        Turkey|\n",
      "|  s3731|  Movie|     The Wolf's Call|      Antonin Baudry|François Civil, O...|              France|2019-06-20|        2019| TV-14|  116 min|Dramas, Internati...|With nuclear war ...|         116|          min|      2019|          6|    true|[Dramas, Internat...|        France|\n",
      "|  s3934|  Movie|Petta (Telugu Ver...|    Karthik Subbaraj|Rajnikanth, Vijay...|             Unknown|2019-04-07|        2019| TV-14|  170 min|Action & Adventur...|An affable, newly...|         170|          min|      2019|          4|    true|[Action & Adventu...|       Unknown|\n",
      "|  s3979|  Movie|       Oversize Cops|Chanon Yingyong, ...|Sarun Cinsuvapala...|            Thailand|2019-03-23|        2017| TV-MA|  100 min|Action & Adventur...|While investigati...|         100|          min|      2019|          3|    true|[Action & Adventu...|      Thailand|\n",
      "+-------+-------+--------------------+--------------------+--------------------+--------------------+----------+------------+------+---------+--------------------+--------------------+------------+-------------+----------+-----------+--------+--------------------+--------------+\n",
      "only showing top 20 rows\n",
      "\n"
     ]
    }
   ],
   "source": [
    "from pyspark.sql.functions import regexp_replace\n",
    "\n",
    "df_bronze = df_bronze.withColumn(\"description\", regexp_replace(col(\"description\"), r'^\"|\"$', ''))\n",
    "df_bronze.show()"
   ]
  },
  {
   "cell_type": "code",
   "execution_count": 49,
   "id": "92466ce4-dcdb-4437-a08d-749ada065f21",
   "metadata": {},
   "outputs": [],
   "source": [
    "df_bronze.write \\\n",
    "    .mode(\"overwrite\") \\\n",
    "    .format(\"parquet\") \\\n",
    "    .save(\"s3a://trusted/silver\")"
   ]
  },
  {
   "cell_type": "code",
   "execution_count": 50,
   "id": "aa6e17e0-7d60-4635-8a19-12f35e17c658",
   "metadata": {},
   "outputs": [
    {
     "name": "stdout",
     "output_type": "stream",
     "text": [
      "+-------+-------+--------------------+--------------------+--------------------+--------+----------+------------+------+---------+--------------------+--------------------+------------+-------------+----------+-----------+--------+--------------------+------------+\n",
      "|show_id|   type|               title|            director|                cast| country|date_added|release_year|rating| duration|           listed_in|         description|duration_int|duration_type|added_year|added_month|is_movie|              genres|main_country|\n",
      "+-------+-------+--------------------+--------------------+--------------------+--------+----------+------------+------+---------+--------------------+--------------------+------------+-------------+----------+-----------+--------+--------------------+------------+\n",
      "|   s289|TV Show|Las muñecas de la...|             Unknown|Amparo Grisales, ...|Colombia|2021-08-10|        2018| TV-MA| 1 Season|Crime TV Shows, I...|Based on the book...|           1|       Season|      2021|          8|   false|[Crime TV Shows, ...|    Colombia|\n",
      "|   s416|  Movie|Chhota Bheem aur ...|       Rajiv Chilaka|Vatsal Dubey, Jul...|   India|2021-07-22|        2009| TV-Y7|   68 min|Children & Family...|Centuries after t...|          68|          min|      2021|          7|    true|[Children & Famil...|       India|\n",
      "|   s419|  Movie|Chhota Bheem Ka R...|Arpan Sarkar, Shy...|Julie Tejwani, Sa...| Unknown|2021-07-22|        2019|  TV-Y|   63 min|Children & Family...|A faulty transpor...|          63|          min|      2021|          7|    true|[Children & Famil...|     Unknown|\n",
      "|   s511|TV Show|             Between|             Unknown|Jennette McCurdy,...|  Canada|2021-07-06|        2016| TV-14|2 Seasons|International TV ...|After a mysteriou...|           2|      Seasons|      2021|          7|   false|[International TV...|      Canada|\n",
      "|   s745|TV Show|         Locombianos|             Unknown|Freddy Beltrán, P...|Colombia|2021-06-10|        2021| TV-MA| 1 Season|International TV ...|Four of Colombia'...|           1|       Season|      2021|          6|   false|[International TV...|    Colombia|\n",
      "+-------+-------+--------------------+--------------------+--------------------+--------+----------+------------+------+---------+--------------------+--------------------+------------+-------------+----------+-----------+--------+--------------------+------------+\n",
      "only showing top 5 rows\n",
      "\n"
     ]
    }
   ],
   "source": [
    "df_check = spark.read.format(\"parquet\").load(\"s3a://trusted/silver/\")\n",
    "df_check.show(5)"
   ]
  },
  {
   "cell_type": "code",
   "execution_count": null,
   "id": "850eb226-a8bb-48cc-b8de-12f5d9e03a13",
   "metadata": {},
   "outputs": [],
   "source": []
  }
 ],
 "metadata": {
  "kernelspec": {
   "display_name": "Python 3 (ipykernel)",
   "language": "python",
   "name": "python3"
  },
  "language_info": {
   "codemirror_mode": {
    "name": "ipython",
    "version": 3
   },
   "file_extension": ".py",
   "mimetype": "text/x-python",
   "name": "python",
   "nbconvert_exporter": "python",
   "pygments_lexer": "ipython3",
   "version": "3.10.8"
  }
 },
 "nbformat": 4,
 "nbformat_minor": 5
}
